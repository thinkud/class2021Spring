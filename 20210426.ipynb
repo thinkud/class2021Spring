{
  "nbformat": 4,
  "nbformat_minor": 0,
  "metadata": {
    "colab": {
      "name": "20210426.ipynb",
      "provenance": [],
      "authorship_tag": "ABX9TyOrb3G9OFy3lYdSeKUTOBKm",
      "include_colab_link": true
    },
    "kernelspec": {
      "name": "python3",
      "display_name": "Python 3"
    },
    "language_info": {
      "name": "python"
    }
  },
  "cells": [
    {
      "cell_type": "markdown",
      "metadata": {
        "id": "view-in-github",
        "colab_type": "text"
      },
      "source": [
        "<a href=\"https://colab.research.google.com/github/thinkud/class2021Spring/blob/main/20210426.ipynb\" target=\"_parent\"><img src=\"https://colab.research.google.com/assets/colab-badge.svg\" alt=\"Open In Colab\"/></a>"
      ]
    },
    {
      "cell_type": "code",
      "metadata": {
        "id": "2WAs2J9dWcUv"
      },
      "source": [
        "%matplotlib inline\n",
        "from matplotlib import pyplot as plt\n",
        "import IPython.display as ipd\n",
        "import numpy as np\n",
        "from scipy.signal import lfilter"
      ],
      "execution_count": 1,
      "outputs": []
    },
    {
      "cell_type": "code",
      "metadata": {
        "id": "erYkh-pHnNvj"
      },
      "source": [
        "def phasor (amp, sr, dur, freq):\n",
        "  return s, theta, t"
      ],
      "execution_count": 3,
      "outputs": []
    },
    {
      "cell_type": "code",
      "metadata": {
        "id": "nUNq8Gyoot0R"
      },
      "source": [
        "amp = 1          \n",
        "sr = 10000       \n",
        "dur = 1      \n",
        "freq = 10.0     "
      ],
      "execution_count": 5,
      "outputs": []
    },
    {
      "cell_type": "code",
      "metadata": {
        "id": "G1C_4cdMn2bL"
      },
      "source": [
        "t = np.arange(1, sr * dur+1)/sr\n",
        "theta = t * 2*np.pi * freq   \n",
        "s = np.sin(theta)"
      ],
      "execution_count": 6,
      "outputs": []
    },
    {
      "cell_type": "code",
      "metadata": {
        "id": "vdGwfWJJqKpk",
        "outputId": "9a87fa25-f381-4a05-ed9d-0496ec27e3d9",
        "colab": {
          "base_uri": "https://localhost:8080/"
        }
      },
      "source": [
        "a = phasor(1, 10000, 1, 10)\n",
        "print(a)"
      ],
      "execution_count": 11,
      "outputs": [
        {
          "output_type": "stream",
          "text": [
            "(array([ 6.28314397e-03,  1.25660399e-02,  1.88484397e-02, ...,\n",
            "       -1.25660399e-02, -6.28314397e-03, -2.44929360e-15]), array([6.28318531e-03, 1.25663706e-02, 1.88495559e-02, ...,\n",
            "       6.28192867e+01, 6.28255699e+01, 6.28318531e+01]), array([1.000e-04, 2.000e-04, 3.000e-04, ..., 9.998e-01, 9.999e-01,\n",
            "       1.000e+00]))\n"
          ],
          "name": "stdout"
        }
      ]
    },
    {
      "cell_type": "code",
      "metadata": {
        "id": "2wPQsSlupdLZ",
        "outputId": "b3d1b976-2c05-446b-c246-7a5ab817456d",
        "colab": {
          "base_uri": "https://localhost:8080/",
          "height": 297
        }
      },
      "source": [
        "fig = plt.figure()\n",
        "ax = fig.add_subplot(111)\n",
        "ax.plot(t[0:10000], s[0:10000], '.')\n",
        "ax.set_xlabel('time (s)')\n",
        "ax.set_ylabel('real')"
      ],
      "execution_count": 9,
      "outputs": [
        {
          "output_type": "execute_result",
          "data": {
            "text/plain": [
              "Text(0, 0.5, 'real')"
            ]
          },
          "metadata": {
            "tags": []
          },
          "execution_count": 9
        },
        {
          "output_type": "display_data",
          "data": {
            "image/png": "[encoded data removed]",
            "text/plain": [
              "<Figure size 432x288 with 1 Axes>"
            ]
          },
          "metadata": {
            "tags": [],
            "needs_background": "light"
          }
        }
      ]
    }
  ]
}