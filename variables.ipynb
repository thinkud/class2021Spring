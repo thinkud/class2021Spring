{
  "nbformat": 4,
  "nbformat_minor": 0,
  "metadata": {
    "colab": {
      "name": "variables.ipynb",
      "provenance": [],
      "authorship_tag": "ABX9TyM8GKlaKiJkROolprFHZsTJ",
      "include_colab_link": true
    },
    "kernelspec": {
      "name": "python3",
      "display_name": "Python 3"
    }
  },
  "cells": [
    {
      "cell_type": "markdown",
      "metadata": {
        "id": "view-in-github",
        "colab_type": "text"
      },
      "source": [
        "<a href=\"https://colab.research.google.com/github/thinkud/class2021Spring/blob/main/variables.ipynb\" target=\"_parent\"><img src=\"https://colab.research.google.com/assets/colab-badge.svg\" alt=\"Open In Colab\"/></a>"
      ]
    },
    {
      "cell_type": "code",
      "metadata": {
        "colab": {
          "base_uri": "https://localhost:8080/"
        },
        "id": "RDtT-D8rOf3S",
        "outputId": "682a8367-ede0-4472-eb6c-eab553d8e727"
      },
      "source": [
        "a = 1                                                                           #print 함수를 써야 변수를 집어 결과를 볼 수 있음. ; 사용해서 한줄로 나열도 가능.\r\n",
        "b = 2\r\n",
        "c = 3\r\n",
        "print(a)"
      ],
      "execution_count": 1,
      "outputs": [
        {
          "output_type": "stream",
          "text": [
            "1\n"
          ],
          "name": "stdout"
        }
      ]
    },
    {
      "cell_type": "code",
      "metadata": {
        "colab": {
          "base_uri": "https://localhost:8080/"
        },
        "id": "VGwHmlu0R5I-",
        "outputId": "3bfbaaaa-5e46-476e-ccf4-9f54fd1effef"
      },
      "source": [
        "a = 3                                                                           #a의 형태는 integer 즉 정수 = 3                                                                          \r\n",
        "print(type(a))"
      ],
      "execution_count": 3,
      "outputs": [
        {
          "output_type": "stream",
          "text": [
            "<class 'int'>\n"
          ],
          "name": "stdout"
        }
      ]
    },
    {
      "cell_type": "code",
      "metadata": {
        "colab": {
          "base_uri": "https://localhost:8080/"
        },
        "id": "0FdYhGXiSQ-R",
        "outputId": "ca8089ac-daa8-471f-9c5a-133815b6f5af"
      },
      "source": [
        "a = 2; a = float(a); print(type(a))                                             #a에 float(a)를 새로 assign했으니 type(a)는 float"
      ],
      "execution_count": 5,
      "outputs": [
        {
          "output_type": "stream",
          "text": [
            "<class 'float'>\n"
          ],
          "name": "stdout"
        }
      ]
    },
    {
      "cell_type": "code",
      "metadata": {
        "colab": {
          "base_uri": "https://localhost:8080/"
        },
        "id": "x0QYEKr5Spk4",
        "outputId": "71b97b4c-9c2c-4d72-d896-6a3aa847b0b8"
      },
      "source": [
        "a = 3.2; a =int(a); print(type(a)); print(a)"
      ],
      "execution_count": 4,
      "outputs": [
        {
          "output_type": "stream",
          "text": [
            "<class 'int'>\n",
            "3\n"
          ],
          "name": "stdout"
        }
      ]
    },
    {
      "cell_type": "code",
      "metadata": {
        "colab": {
          "base_uri": "https://localhost:8080/"
        },
        "id": "fEryPauYS9sz",
        "outputId": "7411f196-319b-40c5-fae1-26dcad030b31"
      },
      "source": [
        "a = 'korea'                                                                     #string: 큰따옴표 혹은 작은따옴표로 둘러싸인 문자열\r\n",
        "print(type(a))                                                                  #a[0]은 a의 첫번째 = k. a[4]은 a의 4번째 = a\r\n",
        "print(a[0])\r\n",
        "print(a[4])"
      ],
      "execution_count": null,
      "outputs": [
        {
          "output_type": "stream",
          "text": [
            "<class 'str'>\n",
            "k\n",
            "a\n"
          ],
          "name": "stdout"
        }
      ]
    },
    {
      "cell_type": "code",
      "metadata": {
        "colab": {
          "base_uri": "https://localhost:8080/"
        },
        "id": "xXTsPWeNTWLH",
        "outputId": "ee023822-3b24-4830-a4c5-e7262aa00724"
      },
      "source": [
        "a = '579'\r\n",
        "a = list(a)\r\n",
        "a"
      ],
      "execution_count": 6,
      "outputs": [
        {
          "output_type": "execute_result",
          "data": {
            "text/plain": [
              "['5', '7', '9']"
            ]
          },
          "metadata": {
            "tags": []
          },
          "execution_count": 6
        }
      ]
    },
    {
      "cell_type": "code",
      "metadata": {
        "colab": {
          "base_uri": "https://localhost:8080/"
        },
        "id": "1nuNCUxjTqxk",
        "outputId": "67fd9f36-bdfd-4c15-fcde-8a8d3f7c6041"
      },
      "source": [
        "a = '197'\r\n",
        "print(type(a))\r\n",
        "a = list(a)\r\n",
        "print(type(a))"
      ],
      "execution_count": 7,
      "outputs": [
        {
          "output_type": "stream",
          "text": [
            "<class 'str'>\n",
            "<class 'list'>\n"
          ],
          "name": "stdout"
        }
      ]
    },
    {
      "cell_type": "code",
      "metadata": {
        "colab": {
          "base_uri": "https://localhost:8080/"
        },
        "id": "WRfu8SFAT93-",
        "outputId": "beea1858-3cbd-42b7-e565-d5c6cd2c293f"
      },
      "source": [
        "a = [1, 'cde', 4]\r\n",
        "print(type(a))\r\n",
        "a = [1, '2', [3, '4']]\r\n",
        "print(type(a))"
      ],
      "execution_count": null,
      "outputs": [
        {
          "output_type": "stream",
          "text": [
            "<class 'list'>\n",
            "<class 'list'>\n"
          ],
          "name": "stdout"
        }
      ]
    },
    {
      "cell_type": "code",
      "metadata": {
        "colab": {
          "base_uri": "https://localhost:8080/"
        },
        "id": "51nfVHQ4UMRo",
        "outputId": "e2f738f0-3c3e-430d-9ca9-9a85661c0692"
      },
      "source": [
        "a = [9, 0, 3]\r\n",
        "print(a[2])"
      ],
      "execution_count": 10,
      "outputs": [
        {
          "output_type": "stream",
          "text": [
            "3\n"
          ],
          "name": "stdout"
        }
      ]
    },
    {
      "cell_type": "code",
      "metadata": {
        "colab": {
          "base_uri": "https://localhost:8080/"
        },
        "id": "g0jKfrd2U2EY",
        "outputId": "e7759886-ee84-4826-f771-e2e3ccddaa2a"
      },
      "source": [
        "a = [1, '2',[3, '4']]\r\n",
        "print(a[2])"
      ],
      "execution_count": null,
      "outputs": [
        {
          "output_type": "stream",
          "text": [
            "[3, '4']\n"
          ],
          "name": "stdout"
        }
      ]
    },
    {
      "cell_type": "code",
      "metadata": {
        "colab": {
          "base_uri": "https://localhost:8080/",
          "height": 106
        },
        "id": "TiV3sO8KVWlM",
        "outputId": "6a1b92a8-dc1f-493b-a098-b10c9fd69b1f"
      },
      "source": [
        "a = [4, '9', [1, '7']]; print(type(a)); print(a[0]); print(a[1]); print(a[2]); a[1]               #'9'는 string이 맞지만, print 함수가 string의 따옴표를 없애서 \r\n",
        "                                                                                                  #print(a[1])은 9로 출력. a[1]의 경우 '9'로 원래대로 출력됨"
      ],
      "execution_count": 15,
      "outputs": [
        {
          "output_type": "stream",
          "text": [
            "<class 'list'>\n",
            "4\n",
            "9\n",
            "[1, '7']\n"
          ],
          "name": "stdout"
        },
        {
          "output_type": "execute_result",
          "data": {
            "application/vnd.google.colaboratory.intrinsic+json": {
              "type": "string"
            },
            "text/plain": [
              "'9'"
            ]
          },
          "metadata": {
            "tags": []
          },
          "execution_count": 15
        }
      ]
    },
    {
      "cell_type": "code",
      "metadata": {
        "colab": {
          "base_uri": "https://localhost:8080/"
        },
        "id": "ufpMVEOYWFqd",
        "outputId": "f7593b2e-9ce9-4b34-eb77-df9d58e9ff60"
      },
      "source": [
        "a = {\"a\": \"apple\", \"b\": \"orange\", \"c\": 2014}                                    #dictionary는 \"\"와 ''모두 사용가능. 숫자 대신 표제어로\r\n",
        "print(type(a))\r\n",
        "a[\"c\"]"
      ],
      "execution_count": 18,
      "outputs": [
        {
          "output_type": "stream",
          "text": [
            "<class 'dict'>\n"
          ],
          "name": "stdout"
        },
        {
          "output_type": "execute_result",
          "data": {
            "text/plain": [
              "2014"
            ]
          },
          "metadata": {
            "tags": []
          },
          "execution_count": 18
        }
      ]
    }
  ]
}