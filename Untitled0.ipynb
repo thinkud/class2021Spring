{
  "nbformat": 4,
  "nbformat_minor": 0,
  "metadata": {
    "colab": {
      "name": "Untitled0.ipynb",
      "provenance": [],
      "authorship_tag": "ABX9TyNiZaTtkUID9WttF7nL6R1e",
      "include_colab_link": true
    },
    "kernelspec": {
      "name": "python3",
      "display_name": "Python 3"
    }
  },
  "cells": [
    {
      "cell_type": "markdown",
      "metadata": {
        "id": "view-in-github",
        "colab_type": "text"
      },
      "source": [
        "<a href=\"https://colab.research.google.com/github/thinkud/class2021Spring/blob/main/Untitled0.ipynb\" target=\"_parent\"><img src=\"https://colab.research.google.com/assets/colab-badge.svg\" alt=\"Open In Colab\"/></a>"
      ]
    },
    {
      "cell_type": "markdown",
      "metadata": {
        "id": "c6uiMzBjpAE7"
      },
      "source": [
        "### 변수(variable): 프로그래밍 언어에서 단어 역할\r\n",
        "a = 1 : 변수 a에 1이라는 숫자를 assign한다.\r\n",
        "\r\n",
        "ex) b = 3, c = 'love'\r\n",
        "\r\n",
        "\r\n",
        "### 제어문: 프로그래밍 언어에서 문법 역할\r\n",
        "1. 반복 for\r\n",
        "\r\n",
        "ex) for 100 print(1): 1을 100번 반복하라\r\n",
        "\r\n",
        "\r\n",
        "2. 조건 if\r\n",
        "\r\n",
        "ex) \r\n",
        "    a = 1\r\n",
        "    \r\n",
        "    if a = = 1\r\n",
        "\r\n",
        "    print(3)\r\n",
        "\r\n",
        "    a는 1이다. a가 1이면 3을 print하라.\r\n",
        "\r\n",
        "\r\n",
        "### 함수(function): 입출력 관계\r\n",
        "\r\n",
        "ex) 인간의 몸, ai 음성인식"
      ]
    }
  ]
}