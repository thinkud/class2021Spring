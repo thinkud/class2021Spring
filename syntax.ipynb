{
  "nbformat": 4,
  "nbformat_minor": 0,
  "metadata": {
    "colab": {
      "name": "syntax.ipynb",
      "provenance": [],
      "authorship_tag": "ABX9TyOEehE6rxrwlPHO6aIDfkop",
      "include_colab_link": true
    },
    "kernelspec": {
      "name": "python3",
      "display_name": "Python 3"
    }
  },
  "cells": [
    {
      "cell_type": "markdown",
      "metadata": {
        "id": "view-in-github",
        "colab_type": "text"
      },
      "source": [
        "<a href=\"https://colab.research.google.com/github/thinkud/class2021Spring/blob/main/syntax.ipynb\" target=\"_parent\"><img src=\"https://colab.research.google.com/assets/colab-badge.svg\" alt=\"Open In Colab\"/></a>"
      ]
    },
    {
      "cell_type": "code",
      "metadata": {
        "colab": {
          "base_uri": "https://localhost:8080/"
        },
        "id": "rMns2PkEeXbn",
        "outputId": "1ae26cb4-1c7b-44db-973f-082aec675582"
      },
      "source": [
        "a = [5, 0, 1, 3]                                                                #a를 차례대로 돌아가며 i에 repeatedly 대입하고 출력하기\r\n",
        "for i in a:                                                                     #print 함수는 앞에 indent 들어가야 = [5, 0, 1, 3]                                                                                                                            \r\n",
        "    print(i)"
      ],
      "execution_count": null,
      "outputs": [
        {
          "output_type": "stream",
          "text": [
            "5\n",
            "0\n",
            "1\n",
            "3\n"
          ],
          "name": "stdout"
        }
      ]
    },
    {
      "cell_type": "code",
      "metadata": {
        "colab": {
          "base_uri": "https://localhost:8080/"
        },
        "id": "xt1JHWIxfGMw",
        "outputId": "cffce520-cdd9-41d7-ac8c-bdd022d6c989"
      },
      "source": [
        "for i in range(3):                                                              #range(3): 범위. 3이전의 정수들\r\n",
        "   print(i)"
      ],
      "execution_count": null,
      "outputs": [
        {
          "output_type": "stream",
          "text": [
            "0\n",
            "1\n",
            "2\n"
          ],
          "name": "stdout"
        }
      ]
    },
    {
      "cell_type": "code",
      "metadata": {
        "colab": {
          "base_uri": "https://localhost:8080/"
        },
        "id": "w6SWc2TvfbaG",
        "outputId": "ea08bad4-7572-4fbc-94cc-b7abc6001db3"
      },
      "source": [
        "a = [3, 6, 9, 1]\r\n",
        "for i in range(4):\r\n",
        "   print(a[i])"
      ],
      "execution_count": null,
      "outputs": [
        {
          "output_type": "stream",
          "text": [
            "3\n",
            "6\n",
            "9\n",
            "1\n"
          ],
          "name": "stdout"
        }
      ]
    },
    {
      "cell_type": "code",
      "metadata": {
        "colab": {
          "base_uri": "https://localhost:8080/",
          "height": 257
        },
        "id": "ffpM_lWfjhEG",
        "outputId": "9c9ca07c-5b1c-4b8d-b21d-f56c5f0bcbd2"
      },
      "source": [
        "a = [1, 2, 3, 4]                                                                # range(1,5)는 1부터 5이전까지. 즉 1,2,3,4\r\n",
        "for i in range(1,5):      \r\n",
        "    print(a[i])                                                                 #a[4]는 존재하지 않아서 error"
      ],
      "execution_count": null,
      "outputs": [
        {
          "output_type": "stream",
          "text": [
            "2\n",
            "3\n",
            "4\n"
          ],
          "name": "stdout"
        },
        {
          "output_type": "error",
          "ename": "IndexError",
          "evalue": "ignored",
          "traceback": [
            "\u001b[0;31m---------------------------------------------------------------------------\u001b[0m",
            "\u001b[0;31mIndexError\u001b[0m                                Traceback (most recent call last)",
            "\u001b[0;32m<ipython-input-2-bd6635e7c967>\u001b[0m in \u001b[0;36m<module>\u001b[0;34m()\u001b[0m\n\u001b[1;32m      1\u001b[0m \u001b[0ma\u001b[0m \u001b[0;34m=\u001b[0m \u001b[0;34m[\u001b[0m\u001b[0;36m1\u001b[0m\u001b[0;34m,\u001b[0m \u001b[0;36m2\u001b[0m\u001b[0;34m,\u001b[0m \u001b[0;36m3\u001b[0m\u001b[0;34m,\u001b[0m \u001b[0;36m4\u001b[0m\u001b[0;34m]\u001b[0m\u001b[0;34m\u001b[0m\u001b[0;34m\u001b[0m\u001b[0m\n\u001b[1;32m      2\u001b[0m \u001b[0;32mfor\u001b[0m \u001b[0mi\u001b[0m \u001b[0;32min\u001b[0m \u001b[0mrange\u001b[0m\u001b[0;34m(\u001b[0m\u001b[0;36m1\u001b[0m\u001b[0;34m,\u001b[0m\u001b[0;36m5\u001b[0m\u001b[0;34m)\u001b[0m\u001b[0;34m:\u001b[0m\u001b[0;34m\u001b[0m\u001b[0;34m\u001b[0m\u001b[0m\n\u001b[0;32m----> 3\u001b[0;31m     \u001b[0mprint\u001b[0m\u001b[0;34m(\u001b[0m\u001b[0ma\u001b[0m\u001b[0;34m[\u001b[0m\u001b[0mi\u001b[0m\u001b[0;34m]\u001b[0m\u001b[0;34m)\u001b[0m\u001b[0;34m\u001b[0m\u001b[0;34m\u001b[0m\u001b[0m\n\u001b[0m",
            "\u001b[0;31mIndexError\u001b[0m: list index out of range"
          ]
        }
      ]
    },
    {
      "cell_type": "code",
      "metadata": {
        "colab": {
          "base_uri": "https://localhost:8080/"
        },
        "id": "p3DESEwTodtN",
        "outputId": "a597ac81-f8e7-461e-91a2-ed502409e72a"
      },
      "source": [
        "a = [1, 2, 3, 4, 5, 6, 7, 8, 9, 10]\r\n",
        "for i in range(0,10,2):                                                         # 0부터 9까지 숫자를 2개 간격 두기\r\n",
        "    print(a[i])"
      ],
      "execution_count": null,
      "outputs": [
        {
          "output_type": "stream",
          "text": [
            "1\n",
            "3\n",
            "5\n",
            "7\n",
            "9\n"
          ],
          "name": "stdout"
        }
      ]
    },
    {
      "cell_type": "code",
      "metadata": {
        "colab": {
          "base_uri": "https://localhost:8080/"
        },
        "id": "arH-oUQ1o1QV",
        "outputId": "20ae4ff7-41ea-4526-9e75-c13749427e02"
      },
      "source": [
        "a = [1, 2, 3, 4, 5, 6, 7, 8, 9, 10]\r\n",
        "for i in range(0,10,3):\r\n",
        "    print(a[i])"
      ],
      "execution_count": null,
      "outputs": [
        {
          "output_type": "stream",
          "text": [
            "1\n",
            "4\n",
            "7\n",
            "10\n"
          ],
          "name": "stdout"
        }
      ]
    },
    {
      "cell_type": "code",
      "metadata": {
        "colab": {
          "base_uri": "https://localhost:8080/"
        },
        "id": "idd4nCLbpGJY",
        "outputId": "0c0b228d-0675-4c09-c8da-5d21a25b5043"
      },
      "source": [
        "a = 0\r\n",
        "if a == 0:\r\n",
        "  print(a)\r\n",
        "else:\r\n",
        "  print(a+1)"
      ],
      "execution_count": null,
      "outputs": [
        {
          "output_type": "stream",
          "text": [
            "0\n"
          ],
          "name": "stdout"
        }
      ]
    },
    {
      "cell_type": "code",
      "metadata": {
        "colab": {
          "base_uri": "https://localhost:8080/"
        },
        "id": "45Oo1NG1qN2f",
        "outputId": "2f7efb04-186b-46ea-9078-62305d07ea3f"
      },
      "source": [
        "a = 1\r\n",
        "if a == 0:\r\n",
        "  print(a)\r\n",
        "else:\r\n",
        "  print(a+1)"
      ],
      "execution_count": null,
      "outputs": [
        {
          "output_type": "stream",
          "text": [
            "2\n"
          ],
          "name": "stdout"
        }
      ]
    },
    {
      "cell_type": "code",
      "metadata": {
        "id": "iGuHsEJNqTqJ"
      },
      "source": [
        "a = 1                                                                           #a에는 1이 들어가있으니 아무런 결과도 나오지 않음\r\n",
        "if a == 0:\r\n",
        "  print(a)"
      ],
      "execution_count": 14,
      "outputs": []
    },
    {
      "cell_type": "code",
      "metadata": {
        "id": "nx-kTNEsqcVb",
        "colab": {
          "base_uri": "https://localhost:8080/"
        },
        "outputId": "8636235d-a8f5-4448-af96-3245e7fd4e37"
      },
      "source": [
        "for i in range(1, 3):                                                           #i에 1,2 넣어 돌리기                                                         \r\n",
        "   for j in range(3, 5):                                                        #j에 3,4 넣어 돌리기\r\n",
        "          print(i*j)                                                            #1*3, 1*4, 2*3, 2*4. 바깥의 range(1,3)이 (3,5)를 돌기기"
      ],
      "execution_count": null,
      "outputs": [
        {
          "output_type": "stream",
          "text": [
            "3\n",
            "4\n",
            "6\n",
            "8\n"
          ],
          "name": "stdout"
        }
      ]
    },
    {
      "cell_type": "code",
      "metadata": {
        "id": "u2KjyQKtrzxH",
        "colab": {
          "base_uri": "https://localhost:8080/"
        },
        "outputId": "c709152f-d593-4187-cf95-62949e2d597e"
      },
      "source": [
        "for i in range(1, 3):                                                           #하위조건은 꼭 indent 필요\r\n",
        "    for j in range(3, 5):\r\n",
        "        if j>=4:\r\n",
        "          print(i*j) "
      ],
      "execution_count": null,
      "outputs": [
        {
          "output_type": "stream",
          "text": [
            "4\n",
            "8\n"
          ],
          "name": "stdout"
        }
      ]
    },
    {
      "cell_type": "code",
      "metadata": {
        "colab": {
          "base_uri": "https://localhost:8080/"
        },
        "id": "S4Vc1KRusZrJ",
        "outputId": "09d9d685-cf10-4f3f-e66f-7c65beb9867c"
      },
      "source": [
        "a = [1, 2, 3, 4]                                                                #loop list 혹은 list loop라고 함 = [1, 2, 3, 4]                                                                \r\n",
        "b = [i for i in a if i >=2]                                                     # for i in [1, 2, 3, 4] if i>=2\r\n",
        "b                                                                               #이 조건을 만족하는 i를 b라고 한다                                                                                                         "
      ],
      "execution_count": null,
      "outputs": [
        {
          "output_type": "execute_result",
          "data": {
            "text/plain": [
              "[2, 3, 4]"
            ]
          },
          "metadata": {
            "tags": []
          },
          "execution_count": 13
        }
      ]
    },
    {
      "cell_type": "code",
      "metadata": {
        "colab": {
          "base_uri": "https://localhost:8080/"
        },
        "id": "mfNfBPLvtX8a",
        "outputId": "09d9d685-cf10-4f3f-e66f-7c65beb9867c"
      },
      "source": [
        "a = ['red', 'green', 'blue', 'purple']                                                                                                                   \r\n",
        "b = [i for i in a if length(i) >=4]                                             # i에 a의 길이가 4개 이상인 것만 = ['red', 'green', 'blue', 'purple']                                                                                                                   \r\n",
        "b                                                                               #a 중에 철자가 4개 이상인 것만 골라 b에 list up                                                                                                                                                                  "
      ],
      "execution_count": null,
      "outputs": [
        {
          "output_type": "execute_result",
          "data": {
            "text/plain": [
              "[2, 3, 4]"
            ]
          },
          "metadata": {
            "tags": []
          },
          "execution_count": 13
        }
      ]
    }
  ]
}