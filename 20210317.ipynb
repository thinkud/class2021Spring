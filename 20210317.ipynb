{
  "nbformat": 4,
  "nbformat_minor": 0,
  "metadata": {
    "colab": {
      "name": "20210317.ipynb",
      "provenance": [],
      "authorship_tag": "ABX9TyNiv5ZE5ebDuP8iBO4uhKck",
      "include_colab_link": true
    },
    "kernelspec": {
      "name": "python3",
      "display_name": "Python 3"
    }
  },
  "cells": [
    {
      "cell_type": "markdown",
      "metadata": {
        "id": "view-in-github",
        "colab_type": "text"
      },
      "source": [
        "<a href=\"https://colab.research.google.com/github/thinkud/class2021Spring/blob/main/20210317.ipynb\" target=\"_parent\"><img src=\"https://colab.research.google.com/assets/colab-badge.svg\" alt=\"Open In Colab\"/></a>"
      ]
    },
    {
      "cell_type": "code",
      "metadata": {
        "id": "u2KjyQKtrzxH",
        "colab": {
          "base_uri": "https://localhost:8080/"
        },
        "outputId": "a2f5301c-12f8-4366-f4ea-a634dee2547f"
      },
      "source": [
        "for i in [11, 12, 13]:                                                           \r\n",
        "    for j in range(6,8):\r\n",
        "        if j <= 7:\r\n",
        "          print(i*j) "
      ],
      "execution_count": 6,
      "outputs": [
        {
          "output_type": "stream",
          "text": [
            "66\n",
            "77\n",
            "72\n",
            "84\n",
            "78\n",
            "91\n"
          ],
          "name": "stdout"
        }
      ]
    },
    {
      "cell_type": "code",
      "metadata": {
        "colab": {
          "base_uri": "https://localhost:8080/"
        },
        "id": "S4Vc1KRusZrJ",
        "outputId": "6d799c78-0ae5-47ce-bda6-26fe695181ac"
      },
      "source": [
        "a = [5, 7, 9, 11]                                                                                                                              \r\n",
        "b = [i for i in a if i >7]                                                    \r\n",
        "b                                                                           "
      ],
      "execution_count": 7,
      "outputs": [
        {
          "output_type": "execute_result",
          "data": {
            "text/plain": [
              "[9, 11]"
            ]
          },
          "metadata": {
            "tags": []
          },
          "execution_count": 7
        }
      ]
    }
  ]
}