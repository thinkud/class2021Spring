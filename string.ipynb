{
  "nbformat": 4,
  "nbformat_minor": 0,
  "metadata": {
    "colab": {
      "name": "string.ipynb",
      "provenance": [],
      "authorship_tag": "ABX9TyNHZYMXFcdTbGApds+PYxXw",
      "include_colab_link": true
    },
    "kernelspec": {
      "name": "python3",
      "display_name": "Python 3"
    }
  },
  "cells": [
    {
      "cell_type": "markdown",
      "metadata": {
        "id": "view-in-github",
        "colab_type": "text"
      },
      "source": [
        "<a href=\"https://colab.research.google.com/github/thinkud/class2021Spring/blob/main/string.ipynb\" target=\"_parent\"><img src=\"https://colab.research.google.com/assets/colab-badge.svg\" alt=\"Open In Colab\"/></a>"
      ]
    },
    {
      "cell_type": "code",
      "metadata": {
        "colab": {
          "base_uri": "https://localhost:8080/"
        },
        "id": "q2ezB52GXyHF",
        "outputId": "5ca30422-ce4e-4f6b-b2ba-0fa7c13f65e7"
      },
      "source": [
        "s = 'python'                                                                    #s[-1]은 가장 오른쪽 것. -1에서 시작해서 왼쪽으로 s[-2], s[-3]\r\n",
        "print(s[0])\r\n",
        "print(s[4])\r\n",
        "print(s[-1])\r\n",
        "print(s[-6])"
      ],
      "execution_count": 1,
      "outputs": [
        {
          "output_type": "stream",
          "text": [
            "p\n",
            "o\n",
            "n\n",
            "p\n"
          ],
          "name": "stdout"
        }
      ]
    },
    {
      "cell_type": "code",
      "metadata": {
        "colab": {
          "base_uri": "https://localhost:8080/"
        },
        "id": "zE7ipicVY302",
        "outputId": "c1525459-b3d8-494a-f138-f27c6d0041cd"
      },
      "source": [
        "s = 'monday'                                                                    #s[1:3]: 1에서 3전까지/ s[1:]: 1에서 끝까지\r\n",
        "print(s[1:3], s[1:], s[1: -1], s[:3])                                           #s[:3]: 3전까지 \r\n",
        "print(s[:])                                                                     #s[:]: 모두"
      ],
      "execution_count": 2,
      "outputs": [
        {
          "output_type": "stream",
          "text": [
            "on onday onda mon\n",
            "monday\n"
          ],
          "name": "stdout"
        }
      ]
    },
    {
      "cell_type": "code",
      "metadata": {
        "colab": {
          "base_uri": "https://localhost:8080/"
        },
        "id": "RPIGInYJaGT5",
        "outputId": "a3472974-22f1-47a9-8efd-98b254a09871"
      },
      "source": [
        "s = 'abcdef'                                                                    #len(s)= s의 길이(length)\r\n",
        "len(s)"
      ],
      "execution_count": null,
      "outputs": [
        {
          "output_type": "execute_result",
          "data": {
            "text/plain": [
              "6"
            ]
          },
          "metadata": {
            "tags": []
          },
          "execution_count": 8
        }
      ]
    },
    {
      "cell_type": "code",
      "metadata": {
        "colab": {
          "base_uri": "https://localhost:8080/"
        },
        "id": "fxGEWJOXaNGN",
        "outputId": "921a6513-244e-49cf-f1a5-f294fb1bf2f9"
      },
      "source": [
        "n = [100, 200, 300]\r\n",
        "len(n)"
      ],
      "execution_count": null,
      "outputs": [
        {
          "output_type": "execute_result",
          "data": {
            "text/plain": [
              "3"
            ]
          },
          "metadata": {
            "tags": []
          },
          "execution_count": 10
        }
      ]
    },
    {
      "cell_type": "code",
      "metadata": {
        "colab": {
          "base_uri": "https://localhost:8080/",
          "height": 35
        },
        "id": "B90ssftxaZph",
        "outputId": "e67d624a-306e-4a19-b0e3-025212e62bb0"
      },
      "source": [
        "s[1]+s[3]+s[4:]*10                                                              #수식처럼 계산도 가능"
      ],
      "execution_count": null,
      "outputs": [
        {
          "output_type": "execute_result",
          "data": {
            "application/vnd.google.colaboratory.intrinsic+json": {
              "type": "string"
            },
            "text/plain": [
              "'bdefefefefefefefefefef'"
            ]
          },
          "metadata": {
            "tags": []
          },
          "execution_count": 12
        }
      ]
    },
    {
      "cell_type": "code",
      "metadata": {
        "colab": {
          "base_uri": "https://localhost:8080/",
          "height": 35
        },
        "id": "8MzgmjNmasog",
        "outputId": "74341716-f666-4366-e951-e1eaffb8ac23"
      },
      "source": [
        "s.upper()                                                                       #upper(): 대문자로 만드는 함수\r\n",
        "s = s.upper()\r\n",
        "s"
      ],
      "execution_count": null,
      "outputs": [
        {
          "output_type": "execute_result",
          "data": {
            "application/vnd.google.colaboratory.intrinsic+json": {
              "type": "string"
            },
            "text/plain": [
              "'ABCDEF'"
            ]
          },
          "metadata": {
            "tags": []
          },
          "execution_count": 16
        }
      ]
    },
    {
      "cell_type": "code",
      "metadata": {
        "colab": {
          "base_uri": "https://localhost:8080/"
        },
        "id": "4MVYJmsRbExy",
        "outputId": "001d8785-42fc-4974-e053-8a62bbf5c74a"
      },
      "source": [
        "s = 'this is a house built this year.'                                          #find(): 공백까지 포함해서 'house'가 몇번째 위치?\r\n",
        "result = s.find('house')\r\n",
        "result"
      ],
      "execution_count": null,
      "outputs": [
        {
          "output_type": "execute_result",
          "data": {
            "text/plain": [
              "10"
            ]
          },
          "metadata": {
            "tags": []
          },
          "execution_count": 20
        }
      ]
    },
    {
      "cell_type": "code",
      "metadata": {
        "colab": {
          "base_uri": "https://localhost:8080/"
        },
        "id": "zYTe7yuwb0w-",
        "outputId": "d09f0d3b-c65a-4066-9615-b7c57f0cfad3"
      },
      "source": [
        "result = s.find('that')                                                         #that이 없으니 출력값은 -1w\r\n",
        "result"
      ],
      "execution_count": null,
      "outputs": [
        {
          "output_type": "execute_result",
          "data": {
            "text/plain": [
              "-1"
            ]
          },
          "metadata": {
            "tags": []
          },
          "execution_count": 21
        }
      ]
    },
    {
      "cell_type": "code",
      "metadata": {
        "colab": {
          "base_uri": "https://localhost:8080/",
          "height": 35
        },
        "id": "5qRq5zlrcBW3",
        "outputId": "4e476049-6945-4c87-e235-0765f0bf9cd5"
      },
      "source": [
        "s = s.strip()                                                                   #strip(): 앞뒤 공백없이 출력\r\n",
        "s"
      ],
      "execution_count": null,
      "outputs": [
        {
          "output_type": "execute_result",
          "data": {
            "application/vnd.google.colaboratory.intrinsic+json": {
              "type": "string"
            },
            "text/plain": [
              "'this is a house built this year.'"
            ]
          },
          "metadata": {
            "tags": []
          },
          "execution_count": 22
        }
      ]
    },
    {
      "cell_type": "code",
      "metadata": {
        "colab": {
          "base_uri": "https://localhost:8080/"
        },
        "id": "_Hlp1r4IcYA7",
        "outputId": "14fd08b7-91eb-42e3-ef14-20b7d1eefc1e"
      },
      "source": [
        "tokens = s.split(' ')                                                           #split(' '): ''공백으로 나눠주기\r\n",
        "tokens"
      ],
      "execution_count": null,
      "outputs": [
        {
          "output_type": "execute_result",
          "data": {
            "text/plain": [
              "['this', 'is', 'a', 'house', 'built', 'this', 'year.']"
            ]
          },
          "metadata": {
            "tags": []
          },
          "execution_count": 23
        }
      ]
    },
    {
      "cell_type": "code",
      "metadata": {
        "colab": {
          "base_uri": "https://localhost:8080/",
          "height": 35
        },
        "id": "MCaVxePccwe9",
        "outputId": "b34421be-4d7b-4d19-e7ea-ac23fe6a5847"
      },
      "source": [
        "s = ' '.join(tokens)                                                            #' '.join(): 공백을 이용해 gluing해주기\r\n",
        "s"
      ],
      "execution_count": null,
      "outputs": [
        {
          "output_type": "execute_result",
          "data": {
            "application/vnd.google.colaboratory.intrinsic+json": {
              "type": "string"
            },
            "text/plain": [
              "'this is a house built this year.'"
            ]
          },
          "metadata": {
            "tags": []
          },
          "execution_count": 25
        }
      ]
    },
    {
      "cell_type": "code",
      "metadata": {
        "colab": {
          "base_uri": "https://localhost:8080/",
          "height": 35
        },
        "id": "3yw3fM39c6F9",
        "outputId": "e3f2c184-84d1-4a60-bbd5-ab638739024f"
      },
      "source": [
        "s = s.replace('this', 'that')                                                   #replace(): this를 that으로 대체하기 = s.replace('this', 'that')                                                   #replace(): this를 that으로 대체하기\r\n",
        "s"
      ],
      "execution_count": null,
      "outputs": [
        {
          "output_type": "execute_result",
          "data": {
            "application/vnd.google.colaboratory.intrinsic+json": {
              "type": "string"
            },
            "text/plain": [
              "'that is a house built that year.'"
            ]
          },
          "metadata": {
            "tags": []
          },
          "execution_count": 26
        }
      ]
    }
  ]
}