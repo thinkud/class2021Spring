{
  "nbformat": 4,
  "nbformat_minor": 0,
  "metadata": {
    "colab": {
      "name": "20210331.ipynb",
      "provenance": [],
      "authorship_tag": "ABX9TyOMeHVA2t4Aw84i0erjDkl6",
      "include_colab_link": true
    },
    "kernelspec": {
      "name": "python3",
      "display_name": "Python 3"
    },
    "language_info": {
      "name": "python"
    }
  },
  "cells": [
    {
      "cell_type": "markdown",
      "metadata": {
        "id": "view-in-github",
        "colab_type": "text"
      },
      "source": [
        "<a href=\"https://colab.research.google.com/github/thinkud/class2021Spring/blob/main/20210331.ipynb\" target=\"_parent\"><img src=\"https://colab.research.google.com/assets/colab-badge.svg\" alt=\"Open In Colab\"/></a>"
      ]
    },
    {
      "cell_type": "markdown",
      "metadata": {
        "id": "EBmiQ4vV5nH0"
      },
      "source": [
        "a pitch: 233Hz\n",
        "  intensity: 64.57dB\n",
        "  formant:796.8Hz\n",
        "          1449Hz\n",
        "  duration: 0.000425sec\n",
        "\n",
        "e pitch: 222.7Hz\n",
        "  intensity: 55.4dB\n",
        "  formant:874.4Hz\n",
        "          2117Hz\n",
        "  duration: 0.000476sec"
      ]
    }
  ]
}